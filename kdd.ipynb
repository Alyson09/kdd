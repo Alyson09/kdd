{
 "cells": [
  {
   "cell_type": "code",
   "execution_count": 1,
   "metadata": {},
   "outputs": [
    {
     "name": "stdout",
     "output_type": "stream",
     "text": [
      "ola mundo\n"
     ]
    }
   ],
   "source": [
    "print ('ola mundo')"
   ]
  },
  {
   "cell_type": "code",
   "execution_count": 3,
   "metadata": {},
   "outputs": [],
   "source": [
    "import pandas as pd\n",
    "import matplotlib as plt\n"
   ]
  },
  {
   "cell_type": "code",
   "execution_count": 40,
   "metadata": {},
   "outputs": [],
   "source": [
    "bd = pd.read_csv('./dados_sinteticos_com_erros_atualizado.csv')"
   ]
  },
  {
   "cell_type": "code",
   "execution_count": 80,
   "metadata": {},
   "outputs": [
    {
     "data": {
      "text/html": [
       "<div>\n",
       "<style scoped>\n",
       "    .dataframe tbody tr th:only-of-type {\n",
       "        vertical-align: middle;\n",
       "    }\n",
       "\n",
       "    .dataframe tbody tr th {\n",
       "        vertical-align: top;\n",
       "    }\n",
       "\n",
       "    .dataframe thead th {\n",
       "        text-align: right;\n",
       "    }\n",
       "</style>\n",
       "<table border=\"1\" class=\"dataframe\">\n",
       "  <thead>\n",
       "    <tr style=\"text-align: right;\">\n",
       "      <th></th>\n",
       "      <th>id</th>\n",
       "      <th>data</th>\n",
       "      <th>cliente</th>\n",
       "      <th>produto</th>\n",
       "      <th>valor_x</th>\n",
       "      <th>quantidade</th>\n",
       "      <th>total</th>\n",
       "      <th>status</th>\n",
       "      <th>cep</th>\n",
       "      <th>frete</th>\n",
       "      <th>pagamento</th>\n",
       "      <th>vendedor</th>\n",
       "      <th>categoria_x</th>\n",
       "      <th>peso</th>\n",
       "      <th>valor_y</th>\n",
       "      <th>categoria</th>\n",
       "      <th>valor</th>\n",
       "      <th>total real</th>\n",
       "      <th>tempo d comp</th>\n",
       "    </tr>\n",
       "  </thead>\n",
       "  <tbody>\n",
       "    <tr>\n",
       "      <th>0</th>\n",
       "      <td>1</td>\n",
       "      <td>2017-09-20</td>\n",
       "      <td>Filipe Cruz</td>\n",
       "      <td>Isotônico Coca-Cola</td>\n",
       "      <td>96.87</td>\n",
       "      <td>7</td>\n",
       "      <td>38.092982</td>\n",
       "      <td>em separação</td>\n",
       "      <td>44736778</td>\n",
       "      <td>6.91</td>\n",
       "      <td>transferência</td>\n",
       "      <td>Loja 1</td>\n",
       "      <td>bebidas</td>\n",
       "      <td>83.75</td>\n",
       "      <td>5.441855</td>\n",
       "      <td>bebidas</td>\n",
       "      <td>5.441855</td>\n",
       "      <td>38.092982</td>\n",
       "      <td>2366 days 22:24:15.544583</td>\n",
       "    </tr>\n",
       "    <tr>\n",
       "      <th>1</th>\n",
       "      <td>2</td>\n",
       "      <td>2019-07-17</td>\n",
       "      <td>Daniel Silva</td>\n",
       "      <td>Lembrancinha Festa Box</td>\n",
       "      <td>92.21</td>\n",
       "      <td>7</td>\n",
       "      <td>123.142236</td>\n",
       "      <td>em trânsito</td>\n",
       "      <td>14252141</td>\n",
       "      <td>24.54</td>\n",
       "      <td>cheque</td>\n",
       "      <td>Loja 3</td>\n",
       "      <td>artigos para festas</td>\n",
       "      <td>60.02</td>\n",
       "      <td>17.591748</td>\n",
       "      <td>artigos para festas</td>\n",
       "      <td>17.591748</td>\n",
       "      <td>123.142236</td>\n",
       "      <td>1701 days 22:24:15.544583</td>\n",
       "    </tr>\n",
       "    <tr>\n",
       "      <th>2</th>\n",
       "      <td>3</td>\n",
       "      <td>2018-01-20</td>\n",
       "      <td>Victor Silva</td>\n",
       "      <td>Convite Piffer</td>\n",
       "      <td>170.19</td>\n",
       "      <td>5</td>\n",
       "      <td>37.268889</td>\n",
       "      <td>cancelado</td>\n",
       "      <td>11433599</td>\n",
       "      <td>78.13</td>\n",
       "      <td>cartão</td>\n",
       "      <td>Loja 3</td>\n",
       "      <td>artigos para festas</td>\n",
       "      <td>20.81</td>\n",
       "      <td>7.453778</td>\n",
       "      <td>artigos para festas</td>\n",
       "      <td>7.453778</td>\n",
       "      <td>37.268889</td>\n",
       "      <td>2244 days 22:24:15.544583</td>\n",
       "    </tr>\n",
       "    <tr>\n",
       "      <th>3</th>\n",
       "      <td>4</td>\n",
       "      <td>2016-06-21</td>\n",
       "      <td>Vanessa Rodrigues</td>\n",
       "      <td>Vinho Heineken</td>\n",
       "      <td>151.80</td>\n",
       "      <td>10</td>\n",
       "      <td>15.517708</td>\n",
       "      <td>entregue</td>\n",
       "      <td>42601709</td>\n",
       "      <td>99.21</td>\n",
       "      <td>boleto</td>\n",
       "      <td>Loja 3</td>\n",
       "      <td>bebidas</td>\n",
       "      <td>44.59</td>\n",
       "      <td>1.551771</td>\n",
       "      <td>bebidas</td>\n",
       "      <td>1.551771</td>\n",
       "      <td>15.517708</td>\n",
       "      <td>2822 days 22:24:15.544583</td>\n",
       "    </tr>\n",
       "    <tr>\n",
       "      <th>4</th>\n",
       "      <td>5</td>\n",
       "      <td>2015-05-01</td>\n",
       "      <td>Luiz Bandeira</td>\n",
       "      <td>Chinelo Fila</td>\n",
       "      <td>82.24</td>\n",
       "      <td>7</td>\n",
       "      <td>326.226314</td>\n",
       "      <td>em separação</td>\n",
       "      <td>41838090</td>\n",
       "      <td>66.42</td>\n",
       "      <td>cheque</td>\n",
       "      <td>Loja 3</td>\n",
       "      <td>calçados</td>\n",
       "      <td>92.52</td>\n",
       "      <td>46.603759</td>\n",
       "      <td>calçados</td>\n",
       "      <td>46.603759</td>\n",
       "      <td>326.226314</td>\n",
       "      <td>3239 days 22:24:15.544583</td>\n",
       "    </tr>\n",
       "  </tbody>\n",
       "</table>\n",
       "</div>"
      ],
      "text/plain": [
       "   id       data            cliente                 produto  valor_x  \\\n",
       "0   1 2017-09-20        Filipe Cruz     Isotônico Coca-Cola    96.87   \n",
       "1   2 2019-07-17       Daniel Silva  Lembrancinha Festa Box    92.21   \n",
       "2   3 2018-01-20       Victor Silva          Convite Piffer   170.19   \n",
       "3   4 2016-06-21  Vanessa Rodrigues          Vinho Heineken   151.80   \n",
       "4   5 2015-05-01      Luiz Bandeira            Chinelo Fila    82.24   \n",
       "\n",
       "   quantidade       total        status       cep  frete      pagamento  \\\n",
       "0           7   38.092982  em separação  44736778   6.91  transferência   \n",
       "1           7  123.142236   em trânsito  14252141  24.54         cheque   \n",
       "2           5   37.268889     cancelado  11433599  78.13         cartão   \n",
       "3          10   15.517708      entregue  42601709  99.21         boleto   \n",
       "4           7  326.226314  em separação  41838090  66.42         cheque   \n",
       "\n",
       "  vendedor          categoria_x   peso    valor_y            categoria  \\\n",
       "0   Loja 1              bebidas  83.75   5.441855              bebidas   \n",
       "1   Loja 3  artigos para festas  60.02  17.591748  artigos para festas   \n",
       "2   Loja 3  artigos para festas  20.81   7.453778  artigos para festas   \n",
       "3   Loja 3              bebidas  44.59   1.551771              bebidas   \n",
       "4   Loja 3             calçados  92.52  46.603759             calçados   \n",
       "\n",
       "       valor  total real              tempo d comp  \n",
       "0   5.441855   38.092982 2366 days 22:24:15.544583  \n",
       "1  17.591748  123.142236 1701 days 22:24:15.544583  \n",
       "2   7.453778   37.268889 2244 days 22:24:15.544583  \n",
       "3   1.551771   15.517708 2822 days 22:24:15.544583  \n",
       "4  46.603759  326.226314 3239 days 22:24:15.544583  "
      ]
     },
     "execution_count": 80,
     "metadata": {},
     "output_type": "execute_result"
    }
   ],
   "source": [
    "bd.head()"
   ]
  },
  {
   "cell_type": "code",
   "execution_count": 67,
   "metadata": {},
   "outputs": [
    {
     "name": "stdout",
     "output_type": "stream",
     "text": [
      "   id        data            cliente                 produto  valor_x  \\\n",
      "0   1  2017-09-20        Filipe Cruz     Isotônico Coca-Cola    96.87   \n",
      "1   2  2019-07-17       Daniel Silva  Lembrancinha Festa Box    92.21   \n",
      "2   3  2018-01-20       Victor Silva          Convite Piffer   170.19   \n",
      "3   4  2016-06-21  Vanessa Rodrigues          Vinho Heineken   151.80   \n",
      "4   5  2015-05-01      Luiz Bandeira            Chinelo Fila    82.24   \n",
      "5   6  2015-09-23    Maycon Demarque   Decoração Magazine 25   154.96   \n",
      "6   7  2016-08-01      Davi Demarque             Peixe Sadia   117.69   \n",
      "7   8  2017-06-04     Gustavo Soares           Impressora LG    28.64   \n",
      "8   8  2017-06-04     Gustavo Soares           Impressora LG    28.64   \n",
      "9   8  2017-06-04     Gustavo Soares           Impressora LG    28.64   \n",
      "\n",
      "   quantidade        total                status       cep  frete  ...  \\\n",
      "0           7    38.092982          em separação  44736778   6.91  ...   \n",
      "1           7   123.142236           em trânsito  14252141  24.54  ...   \n",
      "2           5    37.268889             cancelado  11433599  78.13  ...   \n",
      "3          10    15.517708              entregue  42601709  99.21  ...   \n",
      "4           7   326.226314          em separação  41838090  66.42  ...   \n",
      "5           1    20.486919             cancelado  30846832  74.67  ...   \n",
      "6           9    62.942948             cancelado  22926108  23.65  ...   \n",
      "7           5   823.014866  aguardando pagamento  18517847   7.32  ...   \n",
      "8           5  1002.198284  aguardando pagamento  18517847   7.32  ...   \n",
      "9           5   823.014866  aguardando pagamento  18517847   7.32  ...   \n",
      "\n",
      "  vendedor          categoria_x   peso  altura  largura  comprimento  \\\n",
      "0   Loja 1              bebidas  83.75   12.89    35.11        56.99   \n",
      "1   Loja 3  artigos para festas  60.02   54.85    15.35        41.05   \n",
      "2   Loja 3  artigos para festas  20.81   20.38    75.42        46.84   \n",
      "3   Loja 3              bebidas  44.59    4.68    32.67        91.61   \n",
      "4   Loja 3             calçados  92.52   57.52    33.77        49.21   \n",
      "5   Loja 3  artigos para festas  86.60   37.70    25.00        16.18   \n",
      "6   Loja 3            alimentos   9.59   84.49    80.68        78.71   \n",
      "7   Loja 3          informática  43.14   76.33    12.34        47.92   \n",
      "8   Loja 3          informática  43.14   76.33    12.34        47.92   \n",
      "9   Loja 3          informática  43.14   76.33    12.34        47.92   \n",
      "\n",
      "      valor_y            categoria       valor   total real  \n",
      "0    5.441855              bebidas    5.441855    38.092982  \n",
      "1   17.591748  artigos para festas   17.591748   123.142236  \n",
      "2    7.453778  artigos para festas    7.453778    37.268889  \n",
      "3    1.551771              bebidas    1.551771    15.517708  \n",
      "4   46.603759             calçados   46.603759   326.226314  \n",
      "5   20.486919  artigos para festas   20.486919    20.486919  \n",
      "6    6.993661            alimentos    6.993661    62.942948  \n",
      "7  164.602973          informática  164.602973   823.014866  \n",
      "8  164.602973          informática  200.439657  1002.198284  \n",
      "9  164.602973          eletrônicos  164.602973   823.014866  \n",
      "\n",
      "[10 rows x 21 columns]\n"
     ]
    }
   ],
   "source": [
    "print(bd.head(10))"
   ]
  },
  {
   "cell_type": "code",
   "execution_count": 59,
   "metadata": {},
   "outputs": [
    {
     "name": "stdout",
     "output_type": "stream",
     "text": [
      "0          38.092982\n",
      "1         123.142236\n",
      "2          37.268889\n",
      "3          15.517708\n",
      "4         326.226314\n",
      "             ...    \n",
      "214306    200.002781\n",
      "214307    531.353100\n",
      "214308    200.002781\n",
      "214309    531.353100\n",
      "214310    200.002781\n",
      "Name: total real, Length: 214311, dtype: float64\n"
     ]
    }
   ],
   "source": [
    "bd ['total real'] = bd['quantidade'] * bd['valor']\n",
    "print(bd['total real'])"
   ]
  },
  {
   "cell_type": "code",
   "execution_count": 37,
   "metadata": {},
   "outputs": [
    {
     "data": {
      "text/html": [
       "<div>\n",
       "<style scoped>\n",
       "    .dataframe tbody tr th:only-of-type {\n",
       "        vertical-align: middle;\n",
       "    }\n",
       "\n",
       "    .dataframe tbody tr th {\n",
       "        vertical-align: top;\n",
       "    }\n",
       "\n",
       "    .dataframe thead th {\n",
       "        text-align: right;\n",
       "    }\n",
       "</style>\n",
       "<table border=\"1\" class=\"dataframe\">\n",
       "  <thead>\n",
       "    <tr style=\"text-align: right;\">\n",
       "      <th></th>\n",
       "      <th>id</th>\n",
       "      <th>valor_x</th>\n",
       "      <th>quantidade</th>\n",
       "      <th>total</th>\n",
       "      <th>cep</th>\n",
       "      <th>frete</th>\n",
       "      <th>peso</th>\n",
       "      <th>altura</th>\n",
       "      <th>largura</th>\n",
       "      <th>comprimento</th>\n",
       "      <th>valor_y</th>\n",
       "    </tr>\n",
       "  </thead>\n",
       "  <tbody>\n",
       "    <tr>\n",
       "      <th>count</th>\n",
       "      <td>214311.000000</td>\n",
       "      <td>214311.000000</td>\n",
       "      <td>214311.000000</td>\n",
       "      <td>214311.000000</td>\n",
       "      <td>2.143110e+05</td>\n",
       "      <td>214311.000000</td>\n",
       "      <td>214311.000000</td>\n",
       "      <td>214311.000000</td>\n",
       "      <td>214311.000000</td>\n",
       "      <td>214311.000000</td>\n",
       "      <td>214311.000000</td>\n",
       "    </tr>\n",
       "    <tr>\n",
       "      <th>mean</th>\n",
       "      <td>24997.598448</td>\n",
       "      <td>110.108479</td>\n",
       "      <td>5.467750</td>\n",
       "      <td>781.741055</td>\n",
       "      <td>5.483700e+07</td>\n",
       "      <td>49.870262</td>\n",
       "      <td>50.169432</td>\n",
       "      <td>50.004779</td>\n",
       "      <td>49.978365</td>\n",
       "      <td>50.108208</td>\n",
       "      <td>142.862632</td>\n",
       "    </tr>\n",
       "    <tr>\n",
       "      <th>std</th>\n",
       "      <td>14433.807030</td>\n",
       "      <td>72.103951</td>\n",
       "      <td>2.873557</td>\n",
       "      <td>1436.049722</td>\n",
       "      <td>2.592957e+07</td>\n",
       "      <td>28.761408</td>\n",
       "      <td>28.873023</td>\n",
       "      <td>28.818780</td>\n",
       "      <td>28.871345</td>\n",
       "      <td>28.736578</td>\n",
       "      <td>222.584472</td>\n",
       "    </tr>\n",
       "    <tr>\n",
       "      <th>min</th>\n",
       "      <td>1.000000</td>\n",
       "      <td>10.000000</td>\n",
       "      <td>1.000000</td>\n",
       "      <td>1.145304</td>\n",
       "      <td>1.000192e+07</td>\n",
       "      <td>0.000000</td>\n",
       "      <td>0.100000</td>\n",
       "      <td>0.100000</td>\n",
       "      <td>0.100000</td>\n",
       "      <td>0.100000</td>\n",
       "      <td>1.145304</td>\n",
       "    </tr>\n",
       "    <tr>\n",
       "      <th>25%</th>\n",
       "      <td>12502.000000</td>\n",
       "      <td>52.900000</td>\n",
       "      <td>3.000000</td>\n",
       "      <td>88.466471</td>\n",
       "      <td>3.251641e+07</td>\n",
       "      <td>24.910000</td>\n",
       "      <td>25.060000</td>\n",
       "      <td>24.995000</td>\n",
       "      <td>24.880000</td>\n",
       "      <td>25.210000</td>\n",
       "      <td>23.450809</td>\n",
       "    </tr>\n",
       "    <tr>\n",
       "      <th>50%</th>\n",
       "      <td>24969.000000</td>\n",
       "      <td>90.290000</td>\n",
       "      <td>5.000000</td>\n",
       "      <td>231.616249</td>\n",
       "      <td>5.484179e+07</td>\n",
       "      <td>50.090000</td>\n",
       "      <td>50.300000</td>\n",
       "      <td>49.950000</td>\n",
       "      <td>49.820000</td>\n",
       "      <td>50.120000</td>\n",
       "      <td>44.808037</td>\n",
       "    </tr>\n",
       "    <tr>\n",
       "      <th>75%</th>\n",
       "      <td>37484.500000</td>\n",
       "      <td>159.140000</td>\n",
       "      <td>8.000000</td>\n",
       "      <td>643.615711</td>\n",
       "      <td>7.699578e+07</td>\n",
       "      <td>74.560000</td>\n",
       "      <td>75.190000</td>\n",
       "      <td>75.040000</td>\n",
       "      <td>75.230000</td>\n",
       "      <td>75.040000</td>\n",
       "      <td>123.110750</td>\n",
       "    </tr>\n",
       "    <tr>\n",
       "      <th>max</th>\n",
       "      <td>50000.000000</td>\n",
       "      <td>299.990000</td>\n",
       "      <td>10.000000</td>\n",
       "      <td>9791.562845</td>\n",
       "      <td>9.999804e+07</td>\n",
       "      <td>100.000000</td>\n",
       "      <td>100.000000</td>\n",
       "      <td>100.000000</td>\n",
       "      <td>100.000000</td>\n",
       "      <td>100.000000</td>\n",
       "      <td>979.156285</td>\n",
       "    </tr>\n",
       "  </tbody>\n",
       "</table>\n",
       "</div>"
      ],
      "text/plain": [
       "                  id        valor_x     quantidade          total  \\\n",
       "count  214311.000000  214311.000000  214311.000000  214311.000000   \n",
       "mean    24997.598448     110.108479       5.467750     781.741055   \n",
       "std     14433.807030      72.103951       2.873557    1436.049722   \n",
       "min         1.000000      10.000000       1.000000       1.145304   \n",
       "25%     12502.000000      52.900000       3.000000      88.466471   \n",
       "50%     24969.000000      90.290000       5.000000     231.616249   \n",
       "75%     37484.500000     159.140000       8.000000     643.615711   \n",
       "max     50000.000000     299.990000      10.000000    9791.562845   \n",
       "\n",
       "                cep          frete           peso         altura  \\\n",
       "count  2.143110e+05  214311.000000  214311.000000  214311.000000   \n",
       "mean   5.483700e+07      49.870262      50.169432      50.004779   \n",
       "std    2.592957e+07      28.761408      28.873023      28.818780   \n",
       "min    1.000192e+07       0.000000       0.100000       0.100000   \n",
       "25%    3.251641e+07      24.910000      25.060000      24.995000   \n",
       "50%    5.484179e+07      50.090000      50.300000      49.950000   \n",
       "75%    7.699578e+07      74.560000      75.190000      75.040000   \n",
       "max    9.999804e+07     100.000000     100.000000     100.000000   \n",
       "\n",
       "             largura    comprimento        valor_y  \n",
       "count  214311.000000  214311.000000  214311.000000  \n",
       "mean       49.978365      50.108208     142.862632  \n",
       "std        28.871345      28.736578     222.584472  \n",
       "min         0.100000       0.100000       1.145304  \n",
       "25%        24.880000      25.210000      23.450809  \n",
       "50%        49.820000      50.120000      44.808037  \n",
       "75%        75.230000      75.040000     123.110750  \n",
       "max       100.000000     100.000000     979.156285  "
      ]
     },
     "execution_count": 37,
     "metadata": {},
     "output_type": "execute_result"
    }
   ],
   "source": [
    "bd.describe()"
   ]
  },
  {
   "cell_type": "code",
   "execution_count": 42,
   "metadata": {},
   "outputs": [
    {
     "data": {
      "text/plain": [
       "id                  0\n",
       "data                0\n",
       "hora                0\n",
       "cliente             0\n",
       "produto             0\n",
       "valor_x             0\n",
       "quantidade          0\n",
       "total               0\n",
       "status              0\n",
       "cidade              0\n",
       "estado              0\n",
       "pais                0\n",
       "cep                 0\n",
       "frete               0\n",
       "pagamento           0\n",
       "vendedor            0\n",
       "categoria_x         0\n",
       "marca               0\n",
       "modelo              0\n",
       "cor            160226\n",
       "tamanho             0\n",
       "peso                0\n",
       "altura              0\n",
       "largura             0\n",
       "comprimento         0\n",
       "categoria_y         0\n",
       "valor_y             0\n",
       "categoria           0\n",
       "valor               0\n",
       "dtype: int64"
      ]
     },
     "execution_count": 42,
     "metadata": {},
     "output_type": "execute_result"
    }
   ],
   "source": [
    "bd.isnull().sum()"
   ]
  },
  {
   "cell_type": "code",
   "execution_count": 43,
   "metadata": {},
   "outputs": [],
   "source": [
    "bd = bd.drop(columns=['cor'])"
   ]
  },
  {
   "cell_type": "code",
   "execution_count": 44,
   "metadata": {},
   "outputs": [],
   "source": [
    "bd = bd.drop(columns=['tamanho'])"
   ]
  },
  {
   "cell_type": "code",
   "execution_count": 45,
   "metadata": {},
   "outputs": [],
   "source": [
    "bd = bd.drop(columns=['marca', 'modelo'])"
   ]
  },
  {
   "cell_type": "code",
   "execution_count": 46,
   "metadata": {},
   "outputs": [
    {
     "name": "stdout",
     "output_type": "stream",
     "text": [
      "0\n"
     ]
    }
   ],
   "source": [
    "print (bd.duplicated().sum())"
   ]
  },
  {
   "cell_type": "code",
   "execution_count": 47,
   "metadata": {},
   "outputs": [],
   "source": [
    "bd = bd.drop(columns=['categoria_y'])"
   ]
  },
  {
   "cell_type": "code",
   "execution_count": 48,
   "metadata": {},
   "outputs": [],
   "source": [
    "bd = bd.drop(columns=['cidade'])"
   ]
  },
  {
   "cell_type": "code",
   "execution_count": 49,
   "metadata": {},
   "outputs": [],
   "source": [
    "bd = bd.drop(columns=['estado' , 'pais'])"
   ]
  },
  {
   "cell_type": "code",
   "execution_count": 53,
   "metadata": {},
   "outputs": [
    {
     "name": "stdout",
     "output_type": "stream",
     "text": [
      "Empty DataFrame\n",
      "Columns: [id, data, hora, cliente, produto, valor_x, quantidade, total, status, cep, frete, pagamento, vendedor, categoria_x, peso, altura, largura, comprimento, valor_y, categoria, valor]\n",
      "Index: []\n",
      "\n",
      "[0 rows x 21 columns]\n"
     ]
    }
   ],
   "source": [
    "print(bd[bd.duplicated()])\n"
   ]
  },
  {
   "cell_type": "code",
   "execution_count": 54,
   "metadata": {},
   "outputs": [],
   "source": [
    "bd = bd.drop_duplicates()\n"
   ]
  },
  {
   "cell_type": "code",
   "execution_count": 65,
   "metadata": {},
   "outputs": [],
   "source": [
    "bd = bd.drop(columns=['hora'])"
   ]
  },
  {
   "cell_type": "code",
   "execution_count": 68,
   "metadata": {},
   "outputs": [],
   "source": [
    "bd = bd.drop(columns=['largura', 'comprimento', 'altura'])"
   ]
  },
  {
   "cell_type": "code",
   "execution_count": 73,
   "metadata": {},
   "outputs": [],
   "source": [
    "from datetime import datetime\n",
    "bd['data'] = pd.to_datetime(bd['data'])\n",
    "\n",
    "data_atual = datetime.now()\n",
    "\n",
    "bd['tempo d comp'] = data_atual - bd['data']"
   ]
  },
  {
   "cell_type": "code",
   "execution_count": 78,
   "metadata": {},
   "outputs": [],
   "source": [
    "bd = bd.drop_duplicates(subset='id', keep='first')"
   ]
  },
  {
   "cell_type": "code",
   "execution_count": 79,
   "metadata": {},
   "outputs": [
    {
     "data": {
      "text/plain": [
       "(50000, 19)"
      ]
     },
     "execution_count": 79,
     "metadata": {},
     "output_type": "execute_result"
    }
   ],
   "source": [
    "bd.shape"
   ]
  }
 ],
 "metadata": {
  "kernelspec": {
   "display_name": "Python 3",
   "language": "python",
   "name": "python3"
  },
  "language_info": {
   "codemirror_mode": {
    "name": "ipython",
    "version": 3
   },
   "file_extension": ".py",
   "mimetype": "text/x-python",
   "name": "python",
   "nbconvert_exporter": "python",
   "pygments_lexer": "ipython3",
   "version": "3.12.1"
  }
 },
 "nbformat": 4,
 "nbformat_minor": 2
}
